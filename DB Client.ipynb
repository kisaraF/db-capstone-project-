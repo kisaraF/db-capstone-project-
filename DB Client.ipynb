{
 "cells": [
  {
   "cell_type": "code",
   "execution_count": 2,
   "id": "f2808187-e17b-4635-afd2-cca4412aa30d",
   "metadata": {},
   "outputs": [],
   "source": [
    "import mysql.connector as connector\n",
    "import pandas as pd\n",
    "import json"
   ]
  },
  {
   "cell_type": "code",
   "execution_count": 3,
   "id": "918fe1bd-7fb6-46d7-9c7e-354da2e66272",
   "metadata": {},
   "outputs": [],
   "source": [
    "#Import credentials\n",
    "with open('Other/Data.json', 'r') as f:\n",
    "    credentials = json.load(f)"
   ]
  },
  {
   "cell_type": "code",
   "execution_count": 6,
   "id": "8d6eafbf-99bf-40ef-a1c7-e65e22c6abab",
   "metadata": {},
   "outputs": [],
   "source": [
    "conn = connector.connect(user = credentials['user'], password = credentials['password'])\n",
    "cur = conn.cursor()"
   ]
  },
  {
   "cell_type": "code",
   "execution_count": 8,
   "id": "b73f8b49-7681-4177-a2ae-3ba5769ef657",
   "metadata": {},
   "outputs": [],
   "source": [
    "cur.execute('USE littlelemondb;')"
   ]
  },
  {
   "cell_type": "code",
   "execution_count": 9,
   "id": "0abcf20e-8189-4c46-baa3-266d0642a7a2",
   "metadata": {},
   "outputs": [
    {
     "data": {
      "text/plain": [
       "'littlelemondb'"
      ]
     },
     "execution_count": 9,
     "metadata": {},
     "output_type": "execute_result"
    }
   ],
   "source": [
    "conn.database"
   ]
  },
  {
   "cell_type": "markdown",
   "id": "c70f3ced-c81f-4c7d-bf10-70f925ba8a5c",
   "metadata": {},
   "source": [
    "### Task two\n",
    "In this second task, you now need to query the database to show all tables within the database. Having established a connection in the first task, you need to execute a test query to ensure that there are no issues. You can do this by executing, or passing, a generic query that returns a snapshot of the database tables. "
   ]
  },
  {
   "cell_type": "code",
   "execution_count": 10,
   "id": "7906f50c-8f92-48a3-b039-1cb5927cf90c",
   "metadata": {},
   "outputs": [],
   "source": [
    "show_tables_query = \"SHOW TABLES;\" \n",
    "cur.execute(show_tables_query)\n",
    "cols = cur.column_names\n",
    "rows = cur.fetchall()"
   ]
  },
  {
   "cell_type": "code",
   "execution_count": 11,
   "id": "9a2ba772-7f87-4b35-93d2-6128af9dae7f",
   "metadata": {},
   "outputs": [
    {
     "name": "stdout",
     "output_type": "stream",
     "text": [
      "('Tables_in_littlelemondb',)\n",
      "('bookings',)\n",
      "('customer',)\n",
      "('delivery',)\n",
      "('employee',)\n",
      "('menu',)\n",
      "('menuitems',)\n",
      "('orders',)\n",
      "('ordersview',)\n"
     ]
    }
   ],
   "source": [
    "print(cols)\n",
    "for i in rows:\n",
    "    print(i)"
   ]
  },
  {
   "cell_type": "code",
   "execution_count": 15,
   "id": "7cae8df9-0e9a-49a7-a628-0db2c0af1478",
   "metadata": {},
   "outputs": [],
   "source": [
    "#Format outputs into Pandas Dataframes for better readability\n",
    "def getOutput(cols, rows):\n",
    "    return pd.DataFrame(rows, columns = cols)"
   ]
  },
  {
   "cell_type": "markdown",
   "id": "4cb7413b-299c-4961-a63f-fa2debe869f8",
   "metadata": {},
   "source": [
    "### Task 3\n",
    "For the third and final task, Little Lemon need you to return specific details from your database. They require the full name and contact details for every customer that has placed an order greater than $60 for a promotional campaign."
   ]
  },
  {
   "cell_type": "code",
   "execution_count": 13,
   "id": "acd0c453-b86a-43c7-bce6-598607d34e03",
   "metadata": {},
   "outputs": [],
   "source": [
    "get_customer_details = '''\n",
    "SELECT DISTINCT(c.CustomerName), c.ContactNumber FROM Customer c \n",
    "JOIN Bookings b ON c.CustomerID = b.CustomerID \n",
    "JOIN Orders o ON o.BookingID = b.BookingID \n",
    "WHERE o.TotalCost > 60;'''"
   ]
  },
  {
   "cell_type": "code",
   "execution_count": 14,
   "id": "afa72fdf-02d9-47ac-84eb-4e265b63e3b5",
   "metadata": {},
   "outputs": [],
   "source": [
    "cur.execute(get_customer_details)\n",
    "cols = cur.column_names\n",
    "rows = cur.fetchall()"
   ]
  },
  {
   "cell_type": "code",
   "execution_count": 16,
   "id": "047ccb0a-3332-4715-b313-5b7d06953b65",
   "metadata": {},
   "outputs": [
    {
     "data": {
      "text/html": [
       "<div>\n",
       "<style scoped>\n",
       "    .dataframe tbody tr th:only-of-type {\n",
       "        vertical-align: middle;\n",
       "    }\n",
       "\n",
       "    .dataframe tbody tr th {\n",
       "        vertical-align: top;\n",
       "    }\n",
       "\n",
       "    .dataframe thead th {\n",
       "        text-align: right;\n",
       "    }\n",
       "</style>\n",
       "<table border=\"1\" class=\"dataframe\">\n",
       "  <thead>\n",
       "    <tr style=\"text-align: right;\">\n",
       "      <th></th>\n",
       "      <th>CustomerName</th>\n",
       "      <th>ContactNumber</th>\n",
       "    </tr>\n",
       "  </thead>\n",
       "  <tbody>\n",
       "    <tr>\n",
       "      <th>0</th>\n",
       "      <td>Nicolle Lardge</td>\n",
       "      <td>9476459</td>\n",
       "    </tr>\n",
       "    <tr>\n",
       "      <th>1</th>\n",
       "      <td>Xaviera Du Plantier</td>\n",
       "      <td>2687532</td>\n",
       "    </tr>\n",
       "    <tr>\n",
       "      <th>2</th>\n",
       "      <td>Brinn McCullum</td>\n",
       "      <td>1251464</td>\n",
       "    </tr>\n",
       "    <tr>\n",
       "      <th>3</th>\n",
       "      <td>Karena Jenicke</td>\n",
       "      <td>8338349</td>\n",
       "    </tr>\n",
       "    <tr>\n",
       "      <th>4</th>\n",
       "      <td>Adolpho De Emanuele</td>\n",
       "      <td>8486297</td>\n",
       "    </tr>\n",
       "    <tr>\n",
       "      <th>5</th>\n",
       "      <td>Julie Tallyn</td>\n",
       "      <td>3228539</td>\n",
       "    </tr>\n",
       "    <tr>\n",
       "      <th>6</th>\n",
       "      <td>Nanette Trinkwon</td>\n",
       "      <td>1167555</td>\n",
       "    </tr>\n",
       "    <tr>\n",
       "      <th>7</th>\n",
       "      <td>Trixie Queen</td>\n",
       "      <td>6245809</td>\n",
       "    </tr>\n",
       "    <tr>\n",
       "      <th>8</th>\n",
       "      <td>Idalina Prudence</td>\n",
       "      <td>3755652</td>\n",
       "    </tr>\n",
       "  </tbody>\n",
       "</table>\n",
       "</div>"
      ],
      "text/plain": [
       "          CustomerName  ContactNumber\n",
       "0       Nicolle Lardge        9476459\n",
       "1  Xaviera Du Plantier        2687532\n",
       "2       Brinn McCullum        1251464\n",
       "3       Karena Jenicke        8338349\n",
       "4  Adolpho De Emanuele        8486297\n",
       "5         Julie Tallyn        3228539\n",
       "6     Nanette Trinkwon        1167555\n",
       "7         Trixie Queen        6245809\n",
       "8     Idalina Prudence        3755652"
      ]
     },
     "execution_count": 16,
     "metadata": {},
     "output_type": "execute_result"
    }
   ],
   "source": [
    "getOutput(cols, rows)"
   ]
  },
  {
   "cell_type": "code",
   "execution_count": null,
   "id": "837ac15f-683a-4a39-86d8-95deceb821b8",
   "metadata": {},
   "outputs": [],
   "source": []
  }
 ],
 "metadata": {
  "kernelspec": {
   "display_name": "Python 3 (ipykernel)",
   "language": "python",
   "name": "python3"
  },
  "language_info": {
   "codemirror_mode": {
    "name": "ipython",
    "version": 3
   },
   "file_extension": ".py",
   "mimetype": "text/x-python",
   "name": "python",
   "nbconvert_exporter": "python",
   "pygments_lexer": "ipython3",
   "version": "3.12.4"
  }
 },
 "nbformat": 4,
 "nbformat_minor": 5
}
